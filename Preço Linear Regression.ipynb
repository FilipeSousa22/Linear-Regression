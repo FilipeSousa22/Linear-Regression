{
 "cells": [
  {
   "cell_type": "code",
   "execution_count": 1,
   "metadata": {},
   "outputs": [],
   "source": [
    "#pip install --upgrade sklearn"
   ]
  },
  {
   "cell_type": "code",
   "execution_count": 2,
   "metadata": {},
   "outputs": [],
   "source": [
    "import numpy as np \n",
    "import pandas as pd \n",
    "\n",
    "import warnings\n",
    "warnings.filterwarnings(\"ignore\")\n",
    "\n",
    "\n",
    "# Machine Learning Classification model libraries\n",
    "\n",
    "from sklearn.linear_model import LinearRegression\n",
    "from sklearn.model_selection import train_test_split\n",
    "from sklearn.preprocessing import LabelEncoder, OneHotEncoder\n",
    "from sklearn import metrics"
   ]
  },
  {
   "cell_type": "code",
   "execution_count": 3,
   "metadata": {},
   "outputs": [
    {
     "data": {
      "text/html": [
       "<div>\n",
       "<style scoped>\n",
       "    .dataframe tbody tr th:only-of-type {\n",
       "        vertical-align: middle;\n",
       "    }\n",
       "\n",
       "    .dataframe tbody tr th {\n",
       "        vertical-align: top;\n",
       "    }\n",
       "\n",
       "    .dataframe thead th {\n",
       "        text-align: right;\n",
       "    }\n",
       "</style>\n",
       "<table border=\"1\" class=\"dataframe\">\n",
       "  <thead>\n",
       "    <tr style=\"text-align: right;\">\n",
       "      <th></th>\n",
       "      <th>saldo_cliente</th>\n",
       "      <th>var_premio_ap_ult_rn</th>\n",
       "      <th>Sin_AU</th>\n",
       "      <th>Marca</th>\n",
       "      <th>PRCOMANL</th>\n",
       "    </tr>\n",
       "  </thead>\n",
       "  <tbody>\n",
       "    <tr>\n",
       "      <th>0</th>\n",
       "      <td>1863.8575</td>\n",
       "      <td>-1.71</td>\n",
       "      <td>1.0</td>\n",
       "      <td>OK! teleseguros</td>\n",
       "      <td>204.66</td>\n",
       "    </tr>\n",
       "    <tr>\n",
       "      <th>3</th>\n",
       "      <td>52.9745</td>\n",
       "      <td>1.19</td>\n",
       "      <td>2.0</td>\n",
       "      <td>OK! teleseguros</td>\n",
       "      <td>137.89</td>\n",
       "    </tr>\n",
       "    <tr>\n",
       "      <th>7</th>\n",
       "      <td>1598.8287</td>\n",
       "      <td>-2.36</td>\n",
       "      <td>2.0</td>\n",
       "      <td>OK! teleseguros</td>\n",
       "      <td>182.56</td>\n",
       "    </tr>\n",
       "    <tr>\n",
       "      <th>8</th>\n",
       "      <td>8517.4997</td>\n",
       "      <td>10.78</td>\n",
       "      <td>2.0</td>\n",
       "      <td>OK! teleseguros</td>\n",
       "      <td>564.46</td>\n",
       "    </tr>\n",
       "    <tr>\n",
       "      <th>12</th>\n",
       "      <td>3488.1222</td>\n",
       "      <td>3.90</td>\n",
       "      <td>1.0</td>\n",
       "      <td>OK! teleseguros</td>\n",
       "      <td>155.83</td>\n",
       "    </tr>\n",
       "    <tr>\n",
       "      <th>14</th>\n",
       "      <td>-1862.4708</td>\n",
       "      <td>-41.23</td>\n",
       "      <td>2.0</td>\n",
       "      <td>OK! teleseguros</td>\n",
       "      <td>220.40</td>\n",
       "    </tr>\n",
       "    <tr>\n",
       "      <th>15</th>\n",
       "      <td>2334.3529</td>\n",
       "      <td>3.55</td>\n",
       "      <td>1.0</td>\n",
       "      <td>OK! teleseguros</td>\n",
       "      <td>206.08</td>\n",
       "    </tr>\n",
       "    <tr>\n",
       "      <th>16</th>\n",
       "      <td>421.0077</td>\n",
       "      <td>-1.76</td>\n",
       "      <td>2.0</td>\n",
       "      <td>OK! teleseguros</td>\n",
       "      <td>175.08</td>\n",
       "    </tr>\n",
       "    <tr>\n",
       "      <th>23</th>\n",
       "      <td>431.0368</td>\n",
       "      <td>-2.50</td>\n",
       "      <td>1.0</td>\n",
       "      <td>OK! teleseguros</td>\n",
       "      <td>203.56</td>\n",
       "    </tr>\n",
       "    <tr>\n",
       "      <th>24</th>\n",
       "      <td>487.5784</td>\n",
       "      <td>7.40</td>\n",
       "      <td>1.0</td>\n",
       "      <td>OK! teleseguros</td>\n",
       "      <td>380.76</td>\n",
       "    </tr>\n",
       "    <tr>\n",
       "      <th>27</th>\n",
       "      <td>618.4188</td>\n",
       "      <td>-18.16</td>\n",
       "      <td>1.0</td>\n",
       "      <td>OK! teleseguros</td>\n",
       "      <td>141.43</td>\n",
       "    </tr>\n",
       "    <tr>\n",
       "      <th>29</th>\n",
       "      <td>4484.4033</td>\n",
       "      <td>1.54</td>\n",
       "      <td>1.0</td>\n",
       "      <td>OK! teleseguros</td>\n",
       "      <td>157.45</td>\n",
       "    </tr>\n",
       "    <tr>\n",
       "      <th>34</th>\n",
       "      <td>1742.7143</td>\n",
       "      <td>7.17</td>\n",
       "      <td>1.0</td>\n",
       "      <td>OK! teleseguros</td>\n",
       "      <td>174.31</td>\n",
       "    </tr>\n",
       "    <tr>\n",
       "      <th>35</th>\n",
       "      <td>1742.7143</td>\n",
       "      <td>7.17</td>\n",
       "      <td>1.0</td>\n",
       "      <td>OK! teleseguros</td>\n",
       "      <td>174.31</td>\n",
       "    </tr>\n",
       "    <tr>\n",
       "      <th>37</th>\n",
       "      <td>2362.5565</td>\n",
       "      <td>3.94</td>\n",
       "      <td>1.0</td>\n",
       "      <td>OK! teleseguros</td>\n",
       "      <td>223.95</td>\n",
       "    </tr>\n",
       "    <tr>\n",
       "      <th>40</th>\n",
       "      <td>1372.5200</td>\n",
       "      <td>2.63</td>\n",
       "      <td>1.0</td>\n",
       "      <td>OK! teleseguros</td>\n",
       "      <td>168.97</td>\n",
       "    </tr>\n",
       "    <tr>\n",
       "      <th>44</th>\n",
       "      <td>1554.1707</td>\n",
       "      <td>-2.49</td>\n",
       "      <td>1.0</td>\n",
       "      <td>OK! teleseguros</td>\n",
       "      <td>206.57</td>\n",
       "    </tr>\n",
       "    <tr>\n",
       "      <th>46</th>\n",
       "      <td>3224.5065</td>\n",
       "      <td>2.34</td>\n",
       "      <td>1.0</td>\n",
       "      <td>OK! teleseguros</td>\n",
       "      <td>216.14</td>\n",
       "    </tr>\n",
       "    <tr>\n",
       "      <th>49</th>\n",
       "      <td>3416.0178</td>\n",
       "      <td>-0.93</td>\n",
       "      <td>3.0</td>\n",
       "      <td>OK! teleseguros</td>\n",
       "      <td>271.87</td>\n",
       "    </tr>\n",
       "    <tr>\n",
       "      <th>50</th>\n",
       "      <td>3456.3820</td>\n",
       "      <td>23.04</td>\n",
       "      <td>1.0</td>\n",
       "      <td>OK! teleseguros</td>\n",
       "      <td>357.91</td>\n",
       "    </tr>\n",
       "  </tbody>\n",
       "</table>\n",
       "</div>"
      ],
      "text/plain": [
       "    saldo_cliente  var_premio_ap_ult_rn  Sin_AU            Marca  PRCOMANL\n",
       "0       1863.8575                 -1.71     1.0  OK! teleseguros    204.66\n",
       "3         52.9745                  1.19     2.0  OK! teleseguros    137.89\n",
       "7       1598.8287                 -2.36     2.0  OK! teleseguros    182.56\n",
       "8       8517.4997                 10.78     2.0  OK! teleseguros    564.46\n",
       "12      3488.1222                  3.90     1.0  OK! teleseguros    155.83\n",
       "14     -1862.4708                -41.23     2.0  OK! teleseguros    220.40\n",
       "15      2334.3529                  3.55     1.0  OK! teleseguros    206.08\n",
       "16       421.0077                 -1.76     2.0  OK! teleseguros    175.08\n",
       "23       431.0368                 -2.50     1.0  OK! teleseguros    203.56\n",
       "24       487.5784                  7.40     1.0  OK! teleseguros    380.76\n",
       "27       618.4188                -18.16     1.0  OK! teleseguros    141.43\n",
       "29      4484.4033                  1.54     1.0  OK! teleseguros    157.45\n",
       "34      1742.7143                  7.17     1.0  OK! teleseguros    174.31\n",
       "35      1742.7143                  7.17     1.0  OK! teleseguros    174.31\n",
       "37      2362.5565                  3.94     1.0  OK! teleseguros    223.95\n",
       "40      1372.5200                  2.63     1.0  OK! teleseguros    168.97\n",
       "44      1554.1707                 -2.49     1.0  OK! teleseguros    206.57\n",
       "46      3224.5065                  2.34     1.0  OK! teleseguros    216.14\n",
       "49      3416.0178                 -0.93     3.0  OK! teleseguros    271.87\n",
       "50      3456.3820                 23.04     1.0  OK! teleseguros    357.91"
      ]
     },
     "execution_count": 3,
     "metadata": {},
     "output_type": "execute_result"
    }
   ],
   "source": [
    "data = pd.read_excel(\"ANULACOES_v2.xlsx\")\n",
    "\n",
    "data = data.dropna(subset = ['Sin_AU', 'var_premio_ap_ult_rn']) #Remove-me as linhas com nan\n",
    "\n",
    "data = data[['saldo_cliente', 'var_premio_ap_ult_rn', 'Sin_AU', 'Marca', 'PRCOMANL']] #Marca Flag_apo_anul\n",
    "\n",
    "data.head(20)"
   ]
  },
  {
   "cell_type": "code",
   "execution_count": 4,
   "metadata": {},
   "outputs": [],
   "source": [
    "#Cria-me uma matrix de variáveis\n",
    "X = data.iloc[:, :-1].values\n",
    "y = data.iloc[:, 4].values"
   ]
  },
  {
   "cell_type": "code",
   "execution_count": 5,
   "metadata": {},
   "outputs": [
    {
     "data": {
      "text/plain": [
       "array([[1863.8575, -1.71, 1.0, 'OK! teleseguros'],\n",
       "       [52.9744999999998, 1.19, 2.0, 'OK! teleseguros'],\n",
       "       [1598.8287, -2.36, 2.0, 'OK! teleseguros'],\n",
       "       ...,\n",
       "       [2944.7471, 5.09, 2.0, 'OK! teleseguros'],\n",
       "       [5439.4826, 2.14, 1.0, 'OK! teleseguros'],\n",
       "       [1037.9894, 0.63, 1.0, 'OK! teleseguros']], dtype=object)"
      ]
     },
     "execution_count": 5,
     "metadata": {},
     "output_type": "execute_result"
    }
   ],
   "source": [
    "X"
   ]
  },
  {
   "cell_type": "code",
   "execution_count": 6,
   "metadata": {},
   "outputs": [],
   "source": [
    "# One Hot Econding para transformar uma coluna de palavras em números\n",
    "lblencoder = LabelEncoder()\n",
    "X[:, 3] = lblencoder.fit_transform(X[:, 3])\n",
    "#onehotencoder = OneHotEncoder(categorical_features = [3])\n",
    "#X = onehotencoder.fit_transform(X).toarray()"
   ]
  },
  {
   "cell_type": "code",
   "execution_count": null,
   "metadata": {},
   "outputs": [],
   "source": []
  },
  {
   "cell_type": "code",
   "execution_count": 7,
   "metadata": {},
   "outputs": [
    {
     "data": {
      "text/plain": [
       "array([[1863,   -1,    1,    0],\n",
       "       [  52,    1,    2,    0],\n",
       "       [1598,   -2,    2,    0],\n",
       "       ...,\n",
       "       [2944,    5,    2,    0],\n",
       "       [5439,    2,    1,    0],\n",
       "       [1037,    0,    1,    0]])"
      ]
     },
     "execution_count": 7,
     "metadata": {},
     "output_type": "execute_result"
    }
   ],
   "source": [
    "X.astype(int)"
   ]
  },
  {
   "cell_type": "code",
   "execution_count": 8,
   "metadata": {},
   "outputs": [],
   "source": [
    "X_train, X_test, y_train, y_test =  train_test_split(X, y, test_size = 0.3, random_state=0)"
   ]
  },
  {
   "cell_type": "code",
   "execution_count": 9,
   "metadata": {},
   "outputs": [],
   "source": [
    "#len(X_train), len(y_train)"
   ]
  },
  {
   "cell_type": "code",
   "execution_count": 10,
   "metadata": {},
   "outputs": [
    {
     "data": {
      "text/plain": [
       "LinearRegression()"
      ]
     },
     "execution_count": 10,
     "metadata": {},
     "output_type": "execute_result"
    }
   ],
   "source": [
    "# Fitting Multiple Linear Regression to the Training Set\n",
    "MLR = LinearRegression()\n",
    "MLR.fit(X_train, y_train)"
   ]
  },
  {
   "cell_type": "code",
   "execution_count": 11,
   "metadata": {},
   "outputs": [
    {
     "name": "stdout",
     "output_type": "stream",
     "text": [
      "constant = 207.3663716082749\n",
      "coefficients = [ 8.99869437e-04  1.04162057e+00  7.21955624e+01 -8.35889695e+01]\n"
     ]
    }
   ],
   "source": [
    "#Print the constant and coeffcients\n",
    "print(f'constant = {MLR.intercept_}')\n",
    "print(f'coefficients = {MLR.coef_}')"
   ]
  },
  {
   "cell_type": "code",
   "execution_count": 12,
   "metadata": {},
   "outputs": [],
   "source": [
    "# Predicting the test set results\n",
    "y_predict = MLR.predict(X_test)"
   ]
  },
  {
   "cell_type": "code",
   "execution_count": 13,
   "metadata": {},
   "outputs": [
    {
     "data": {
      "text/plain": [
       "289.27"
      ]
     },
     "execution_count": 13,
     "metadata": {},
     "output_type": "execute_result"
    }
   ],
   "source": [
    "# Predicting the sigle observation results\n",
    "\n",
    "  #Saldo, Premio, Sinistros, Flag_Anul\n",
    "singl_obs = [300, 20, 2, 1]\n",
    "feature_array = np.array(singl_obs)\n",
    "feature_array = feature_array.reshape(1, -1)\n",
    "y_pred_single_obs = MLR.predict(feature_array)\n",
    "round(float(y_pred_single_obs), 2)"
   ]
  },
  {
   "cell_type": "code",
   "execution_count": 14,
   "metadata": {},
   "outputs": [
    {
     "data": {
      "text/html": [
       "<div>\n",
       "<style scoped>\n",
       "    .dataframe tbody tr th:only-of-type {\n",
       "        vertical-align: middle;\n",
       "    }\n",
       "\n",
       "    .dataframe tbody tr th {\n",
       "        vertical-align: top;\n",
       "    }\n",
       "\n",
       "    .dataframe thead th {\n",
       "        text-align: right;\n",
       "    }\n",
       "</style>\n",
       "<table border=\"1\" class=\"dataframe\">\n",
       "  <thead>\n",
       "    <tr style=\"text-align: right;\">\n",
       "      <th></th>\n",
       "      <th>Actual</th>\n",
       "      <th>Predict</th>\n",
       "      <th>Saldo Cliente</th>\n",
       "      <th>Prémio</th>\n",
       "      <th>Sinistros</th>\n",
       "      <th>Marca</th>\n",
       "      <th>Premio</th>\n",
       "    </tr>\n",
       "  </thead>\n",
       "  <tbody>\n",
       "    <tr>\n",
       "      <th>0</th>\n",
       "      <td>192.53</td>\n",
       "      <td>310.820424</td>\n",
       "      <td>1863.8575</td>\n",
       "      <td>-1.71</td>\n",
       "      <td>1.0</td>\n",
       "      <td>OK! teleseguros</td>\n",
       "      <td>204.66</td>\n",
       "    </tr>\n",
       "    <tr>\n",
       "      <th>1</th>\n",
       "      <td>190.18</td>\n",
       "      <td>340.754358</td>\n",
       "      <td>NaN</td>\n",
       "      <td>NaN</td>\n",
       "      <td>NaN</td>\n",
       "      <td>NaN</td>\n",
       "      <td>NaN</td>\n",
       "    </tr>\n",
       "    <tr>\n",
       "      <th>2</th>\n",
       "      <td>167.80</td>\n",
       "      <td>298.251144</td>\n",
       "      <td>NaN</td>\n",
       "      <td>NaN</td>\n",
       "      <td>NaN</td>\n",
       "      <td>NaN</td>\n",
       "      <td>NaN</td>\n",
       "    </tr>\n",
       "    <tr>\n",
       "      <th>3</th>\n",
       "      <td>254.29</td>\n",
       "      <td>301.202993</td>\n",
       "      <td>52.9745</td>\n",
       "      <td>1.19</td>\n",
       "      <td>2.0</td>\n",
       "      <td>OK! teleseguros</td>\n",
       "      <td>137.89</td>\n",
       "    </tr>\n",
       "    <tr>\n",
       "      <th>4</th>\n",
       "      <td>333.59</td>\n",
       "      <td>328.415787</td>\n",
       "      <td>NaN</td>\n",
       "      <td>NaN</td>\n",
       "      <td>NaN</td>\n",
       "      <td>NaN</td>\n",
       "      <td>NaN</td>\n",
       "    </tr>\n",
       "    <tr>\n",
       "      <th>...</th>\n",
       "      <td>...</td>\n",
       "      <td>...</td>\n",
       "      <td>...</td>\n",
       "      <td>...</td>\n",
       "      <td>...</td>\n",
       "      <td>...</td>\n",
       "      <td>...</td>\n",
       "    </tr>\n",
       "    <tr>\n",
       "      <th>31214</th>\n",
       "      <td>451.70</td>\n",
       "      <td>414.285442</td>\n",
       "      <td>NaN</td>\n",
       "      <td>NaN</td>\n",
       "      <td>NaN</td>\n",
       "      <td>NaN</td>\n",
       "      <td>NaN</td>\n",
       "    </tr>\n",
       "    <tr>\n",
       "      <th>31215</th>\n",
       "      <td>152.32</td>\n",
       "      <td>278.767655</td>\n",
       "      <td>-518.2180</td>\n",
       "      <td>-178.39</td>\n",
       "      <td>1.0</td>\n",
       "      <td>Seguros Continente</td>\n",
       "      <td>125.43</td>\n",
       "    </tr>\n",
       "    <tr>\n",
       "      <th>31216</th>\n",
       "      <td>110.21</td>\n",
       "      <td>425.870533</td>\n",
       "      <td>NaN</td>\n",
       "      <td>NaN</td>\n",
       "      <td>NaN</td>\n",
       "      <td>NaN</td>\n",
       "      <td>NaN</td>\n",
       "    </tr>\n",
       "    <tr>\n",
       "      <th>31217</th>\n",
       "      <td>479.56</td>\n",
       "      <td>288.828683</td>\n",
       "      <td>-478.8950</td>\n",
       "      <td>20.44</td>\n",
       "      <td>1.0</td>\n",
       "      <td>Seguros Continente</td>\n",
       "      <td>167.50</td>\n",
       "    </tr>\n",
       "    <tr>\n",
       "      <th>31218</th>\n",
       "      <td>853.92</td>\n",
       "      <td>471.843997</td>\n",
       "      <td>NaN</td>\n",
       "      <td>NaN</td>\n",
       "      <td>NaN</td>\n",
       "      <td>NaN</td>\n",
       "      <td>NaN</td>\n",
       "    </tr>\n",
       "  </tbody>\n",
       "</table>\n",
       "<p>31219 rows × 7 columns</p>\n",
       "</div>"
      ],
      "text/plain": [
       "       Actual     Predict  Saldo Cliente  Prémio  Sinistros  \\\n",
       "0      192.53  310.820424      1863.8575   -1.71        1.0   \n",
       "1      190.18  340.754358            NaN     NaN        NaN   \n",
       "2      167.80  298.251144            NaN     NaN        NaN   \n",
       "3      254.29  301.202993        52.9745    1.19        2.0   \n",
       "4      333.59  328.415787            NaN     NaN        NaN   \n",
       "...       ...         ...            ...     ...        ...   \n",
       "31214  451.70  414.285442            NaN     NaN        NaN   \n",
       "31215  152.32  278.767655      -518.2180 -178.39        1.0   \n",
       "31216  110.21  425.870533            NaN     NaN        NaN   \n",
       "31217  479.56  288.828683      -478.8950   20.44        1.0   \n",
       "31218  853.92  471.843997            NaN     NaN        NaN   \n",
       "\n",
       "                    Marca  Premio  \n",
       "0         OK! teleseguros  204.66  \n",
       "1                     NaN     NaN  \n",
       "2                     NaN     NaN  \n",
       "3         OK! teleseguros  137.89  \n",
       "4                     NaN     NaN  \n",
       "...                   ...     ...  \n",
       "31214                 NaN     NaN  \n",
       "31215  Seguros Continente  125.43  \n",
       "31216                 NaN     NaN  \n",
       "31217  Seguros Continente  167.50  \n",
       "31218                 NaN     NaN  \n",
       "\n",
       "[31219 rows x 7 columns]"
      ]
     },
     "execution_count": 14,
     "metadata": {},
     "output_type": "execute_result"
    }
   ],
   "source": [
    "# Display actual and predicted values side by side\n",
    "df = pd.DataFrame(data=y_test, columns=['Actual'])\n",
    "df['Predict'] = y_predict\n",
    "df[['Saldo Cliente', 'Prémio', 'Sinistros', 'Marca', 'Premio']] = data[['saldo_cliente', 'var_premio_ap_ult_rn','Sin_AU', 'Marca', 'PRCOMANL']]\n",
    "df"
   ]
  },
  {
   "cell_type": "code",
   "execution_count": 19,
   "metadata": {},
   "outputs": [
    {
     "data": {
      "text/plain": [
       "(max    4442.70\n",
       " min      52.74\n",
       " Name: Actual, dtype: float64,\n",
       " max    2859.198657\n",
       " min    -918.525051\n",
       " Name: Predict, dtype: float64)"
      ]
     },
     "execution_count": 19,
     "metadata": {},
     "output_type": "execute_result"
    }
   ],
   "source": [
    "df['Actual'].agg(['max', 'min']), df['Predict'].agg(['max', 'min'])"
   ]
  },
  {
   "cell_type": "code",
   "execution_count": 17,
   "metadata": {},
   "outputs": [
    {
     "data": {
      "text/plain": [
       "16555.064461592585"
      ]
     },
     "execution_count": 17,
     "metadata": {},
     "output_type": "execute_result"
    }
   ],
   "source": [
    "df4 = df['Actual'].sum() - df['Predict'].sum()\n",
    "df4"
   ]
  },
  {
   "cell_type": "code",
   "execution_count": 15,
   "metadata": {},
   "outputs": [
    {
     "name": "stdout",
     "output_type": "stream",
     "text": [
      "R-Square Error 0.25428464063408196\n"
     ]
    }
   ],
   "source": [
    "#Model Evaluation using R-Square\n",
    "r_square = metrics.r2_score(y_test, y_predict)\n",
    "print('R-Square Error', r_square)"
   ]
  }
 ],
 "metadata": {
  "kernelspec": {
   "display_name": "Python 3",
   "language": "python",
   "name": "python3"
  },
  "language_info": {
   "codemirror_mode": {
    "name": "ipython",
    "version": 3
   },
   "file_extension": ".py",
   "mimetype": "text/x-python",
   "name": "python",
   "nbconvert_exporter": "python",
   "pygments_lexer": "ipython3",
   "version": "3.8.8"
  },
  "latex_envs": {
   "LaTeX_envs_menu_present": true,
   "autoclose": false,
   "autocomplete": true,
   "bibliofile": "biblio.bib",
   "cite_by": "apalike",
   "current_citInitial": 1,
   "eqLabelWithNumbers": true,
   "eqNumInitial": 1,
   "hotkeys": {
    "equation": "Ctrl-E",
    "itemize": "Ctrl-I"
   },
   "labels_anchors": false,
   "latex_user_defs": false,
   "report_style_numbering": false,
   "user_envs_cfg": false
  },
  "toc": {
   "base_numbering": 1,
   "nav_menu": {},
   "number_sections": true,
   "sideBar": true,
   "skip_h1_title": true,
   "title_cell": "Table of Contents",
   "title_sidebar": "Contents",
   "toc_cell": false,
   "toc_position": {},
   "toc_section_display": true,
   "toc_window_display": false
  }
 },
 "nbformat": 4,
 "nbformat_minor": 4
}
